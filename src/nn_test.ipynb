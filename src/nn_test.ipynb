{
 "cells": [
  {
   "cell_type": "markdown",
   "metadata": {},
   "source": [
    "# NN Test\n",
    "\n",
    "Visual analysis of the predicted and reference lines. \n",
    "\n",
    "> **Note:** MIGRATE THIS NOTEBOOK TO THE \"SRC\" FOLDER IN ORDER FOR IT TO WORK."
   ]
  },
  {
   "cell_type": "code",
   "execution_count": 182,
   "metadata": {},
   "outputs": [
    {
     "name": "stdout",
     "output_type": "stream",
     "text": [
      "Requirement already satisfied: pandas in /home/ubuntu/.local/lib/python3.8/site-packages (2.0.3)\n",
      "Requirement already satisfied: tzdata>=2022.1 in /home/ubuntu/.local/lib/python3.8/site-packages (from pandas) (2023.3)\n",
      "Requirement already satisfied: python-dateutil>=2.8.2 in /home/ubuntu/.local/lib/python3.8/site-packages (from pandas) (2.8.2)\n",
      "Requirement already satisfied: pytz>=2020.1 in /home/ubuntu/.local/lib/python3.8/site-packages (from pandas) (2023.3)\n",
      "Requirement already satisfied: numpy>=1.20.3; python_version < \"3.10\" in /home/ubuntu/.local/lib/python3.8/site-packages (from pandas) (1.24.4)\n",
      "Requirement already satisfied: six>=1.5 in /usr/lib/python3/dist-packages (from python-dateutil>=2.8.2->pandas) (1.14.0)\n"
     ]
    }
   ],
   "source": [
    "!pip3 install pandas"
   ]
  },
  {
   "cell_type": "code",
   "execution_count": 183,
   "metadata": {},
   "outputs": [
    {
     "name": "stdout",
     "output_type": "stream",
     "text": [
      "current dir: /home/ubuntu/nn-lidar/IC_NN_Lidar\n"
     ]
    }
   ],
   "source": [
    "import os\n",
    "import time\n",
    "import torch\n",
    "import numpy as np\n",
    "import pandas as pd\n",
    "import matplotlib.pyplot as plt\n",
    "from matplotlib.colors import PowerNorm\n",
    "from matplotlib.colors import LinearSegmentedColormap\n",
    "from statistics import mean\n",
    "import torch.nn as nn\n",
    "import torch.optim as optim\n",
    "import torch.nn.functional as F\n",
    "from torch.utils.data import Dataset, DataLoader, random_split\n",
    "\n",
    "print(f'current dir: {os.getcwd()}')\n",
    "\n",
    "from dataloader import *\n",
    "from pre_process import *\n",
    "#sys.path.append('../')\n",
    "\n",
    "# torch.cuda.empty_cache()\n",
    "\n",
    "# device = torch.device('cuda' if torch.cuda.is_available() else 'cpu')\n",
    "device = torch.device(\"cpu\")"
   ]
  },
  {
   "cell_type": "markdown",
   "metadata": {},
   "source": [
    "       \"id\": \"06-04-2024_21-22-37\",\n",
    "        \"mean0\": -0.004196671800650702,\n",
    "        \"mean1\": -0.004196671800650702,\n",
    "        \"mean2\": 90.88981001120948,\n",
    "        \"mean3\": 135.02487427399674,\n",
    "        \"std0\": 0.24400108426220676,\n",
    "        \"std1\": 0.24400108426220676,\n",
    "        \"std2\": 54.76631030741322,\n",
    "        \"std3\": 54.874353288031536"
   ]
  },
  {
   "cell_type": "code",
   "execution_count": 184,
   "metadata": {},
   "outputs": [],
   "source": [
    "BATCH_SIZE = 40\n",
    "MODEL_NAME = 'model_06-04-2024_21-22-37.pth'\n",
    "# hard coded\n",
    "MEAN = [-0.004196671800650702, -0.004196671800650702, 90.88981001120948, 135.02487427399674]\n",
    "STD = [0.24400108426220676, 0.24400108426220676, 54.76631030741322, 54.874353288031536]"
   ]
  },
  {
   "cell_type": "code",
   "execution_count": 185,
   "metadata": {},
   "outputs": [
    {
     "name": "stdout",
     "output_type": "stream",
     "text": [
      "Current working directory: /home/ubuntu/nn-lidar/IC_NN_Lidar\n"
     ]
    },
    {
     "name": "stdout",
     "output_type": "stream",
     "text": [
      "images shape: torch.Size([9840, 224, 224])\n",
      "label length: 3\n",
      "-----------------------------------------------------------------\n",
      "train size: 9840, val size: 2460\n"
     ]
    }
   ],
   "source": [
    "def getData(csv_path, train_path, batch_size=BATCH_SIZE, num_workers=0):\n",
    "    ''' get images from the folder (assets/images) and return a DataLoader object '''\n",
    "    \n",
    "    dataset = TestNnDataLoader(csv_path, train_path)\n",
    "\n",
    "    train_size, val_size = int(0.8*len(dataset)), np.ceil(0.2*len(dataset)).astype('int')\n",
    "    train_dataset, val_dataset = torch.utils.data.random_split(dataset, [train_size, val_size])\n",
    "\n",
    "    train_data = DataLoader(train_dataset, batch_size=train_size, shuffle=True,num_workers=num_workers)\n",
    "    val_data  = DataLoader(val_dataset, batch_size=BATCH_SIZE, shuffle=True,num_workers=num_workers)\n",
    "\n",
    "    # get one image shape from the train_data\n",
    "    for i, data in enumerate(train_data):\n",
    "        print(f'images shape: {data[\"image\"].shape}')\n",
    "        print(f'label length: {len(data[\"labels\"])}')\n",
    "        break\n",
    "    print('-'*65)\n",
    "\n",
    "    print(f'train size: {train_size}, val size: {val_size}')\n",
    "    return train_data, val_data\n",
    "\n",
    "\n",
    "#! Navigate back one directory\n",
    "#!os.chdir('..') \n",
    "\n",
    "cwd = os.getcwd()\n",
    "print(\"Current working directory:\", cwd)\n",
    "\n",
    "\n",
    "DATASET_ID = '5'\n",
    "CSV_PATH = f\"./data/artificial_data/tags/Artificial_Label_Data{DATASET_ID}.csv\"\n",
    "TRAIN_PATH = f\"./data/artificial_data/train{DATASET_ID}/\"\n",
    "train_data, val_data = getData(csv_path=CSV_PATH, train_path=TRAIN_PATH)"
   ]
  },
  {
   "cell_type": "code",
   "execution_count": 186,
   "metadata": {},
   "outputs": [],
   "source": [
    "# test the model with the validation data for one random image\n",
    "# showing the image and the predicted and real labels\n",
    "# get the first image from the validation data\n",
    "for i, data in enumerate(train_data):\n",
    "    images = data['image']\n",
    "    labels = data['labels']\n",
    "    break"
   ]
  },
  {
   "cell_type": "code",
   "execution_count": 187,
   "metadata": {},
   "outputs": [],
   "source": [
    "# image dimension: (batch, channels, height, width)\n",
    "images = images.type(torch.float32).to(device)\n",
    "images = images.unsqueeze(1)\n",
    "\n",
    "labels = [label.type(torch.float32).to(device) for label in labels]\n",
    "# convert labels to tensor\n",
    "labels = torch.stack(labels)\n",
    "# convert to format: tensor([[value1, value2, value3, value4], [value1, value2, value3, value4], ...])\n",
    "# this is: labels for each image, \"batch\" times -> shape: (batch, 4)\n",
    "labels = labels.permute(1, 0)"
   ]
  },
  {
   "cell_type": "code",
   "execution_count": 188,
   "metadata": {},
   "outputs": [],
   "source": [
    "############ MODEL ############\n",
    "#?model = models.resnet18(pretrained=True)\n",
    "#?model = models.resnet50(pretrained=True)\n",
    "#?model = EfficientNet.from_pretrained('efficientnet-b0')\n",
    "#?model = models.vgg16(pretrained=True)\n",
    "model = models.mobilenet_v2(pretrained=True)\n",
    "\n",
    "########### EFFICENT NET ###########\n",
    "# model._conv_stem = nn.Conv2d(1, 32, kernel_size=3, stride=2, padding=1, bias=False)\n",
    "\n",
    "# num_ftrs = model._fc.in_features\n",
    "# model._fc = nn.Sequential(\n",
    "#     nn.Linear(num_ftrs, 512),\n",
    "#     nn.BatchNorm1d(512),\n",
    "#     nn.ReLU(inplace=True),\n",
    "#     nn.Linear(512, 256),\n",
    "#     nn.BatchNorm1d(256),\n",
    "#     nn.ReLU(inplace=True),\n",
    "#     nn.Linear(256, 3)  \n",
    "# )\n",
    "\n",
    "########### MOBILE NET ########### \n",
    "model.features[0][0] = nn.Conv2d(1, 32, kernel_size=3, stride=2, padding=1, bias=False)\n",
    "\n",
    "# MobileNetV2 uses a different attribute for the classifier\n",
    "num_ftrs = model.classifier[1].in_features\n",
    "model.classifier[1] = nn.Sequential(\n",
    "nn.Linear(num_ftrs, 512),\n",
    "nn.BatchNorm1d(512),\n",
    "nn.ReLU(inplace=True),\n",
    "nn.Linear(512, 3)\n",
    ")\n",
    "\n",
    "########### EFFICENT NET ###########\n",
    "# model._conv_stem = nn.Conv2d(1, 32, kernel_size=3, stride=2, padding=1, bias=False)\n",
    "\n",
    "# num_ftrs = model._fc.in_features\n",
    "# model._fc = nn.Sequential(\n",
    "#     nn.Linear(num_ftrs, 512),\n",
    "#     nn.BatchNorm1d(512),\n",
    "#     nn.ReLU(inplace=True),\n",
    "#     nn.Linear(512, 256),\n",
    "#     nn.BatchNorm1d(256),\n",
    "#     nn.ReLU(inplace=True),\n",
    "#     nn.Linear(256, 3)  \n",
    "# )\n",
    "\n",
    "########### VGG NET 16 ########### \n",
    "# model.features[0] = nn.Conv2d(1, 64, kernel_size=3, stride=1, padding=1)\n",
    "\n",
    "# # Accessing the classifier part of the VGG16 model\n",
    "# num_ftrs = model.classifier[6].in_features\n",
    "# model.classifier[6] = nn.Sequential(\n",
    "#     nn.Linear(num_ftrs, 512),\n",
    "#     nn.BatchNorm1d(512),\n",
    "#     nn.ReLU(inplace=True),\n",
    "#     nn.Linear(512, 256),\n",
    "#     nn.BatchNorm1d(256),\n",
    "#     nn.ReLU(inplace=True),\n",
    "#     nn.Linear(256, 3)\n",
    "# )\n",
    "\n",
    "########### RESNET ###########\n",
    "# model = models.resnet18()\n",
    "# model.conv1 = nn.Conv2d(1, 64, kernel_size=7, stride=2, padding=3, bias=False)\n",
    "\n",
    "# num_ftrs = model.fc.in_features\n",
    "# # Adding batch normalization and an additional convolutional layer\n",
    "# model.fc = nn.Sequential(\n",
    "#     nn.Linear(num_ftrs, 512),\n",
    "#     nn.BatchNorm1d(512),\n",
    "#     nn.ReLU(inplace=True),\n",
    "#     nn.Linear(512, 256),\n",
    "#     nn.BatchNorm1d(256),\n",
    "#     nn.ReLU(inplace=True),\n",
    "#     nn.Linear(256, 3)  # Alterado para 3 valores de saída\n",
    "# )\n",
    "\n",
    "# Moving the model to the device (GPU/CPU)\n",
    "# model = model.to(device)\n",
    "path = os.getcwd() + '/models/' + MODEL_NAME\n",
    "checkpoint = torch.load(path, map_location=device)  # Load to CPU\n",
    "model.load_state_dict(checkpoint)\n",
    "#model.load_state_dict(torch.load(path), map_location=device)\n",
    "model.eval()\n",
    "\n",
    "# image it is the first image from the images batch\n",
    "image = images[0].unsqueeze(0)\n",
    "# label it is the first label from the labels batch\n",
    "label = labels[0].unsqueeze(0)"
   ]
  },
  {
   "cell_type": "code",
   "execution_count": 189,
   "metadata": {},
   "outputs": [
    {
     "name": "stdout",
     "output_type": "stream",
     "text": [
      "image type: torch.Size([1, 1, 224, 224])\n",
      "Inference time: 26.7828 ms\n"
     ]
    }
   ],
   "source": [
    "# type of image\n",
    "print(f'image type: {image.shape}')\n",
    "\n",
    "# Inicie a contagem de tempo antes da inferência\n",
    "start_time = time.time()\n",
    "\n",
    "# get the model predictions\n",
    "predictions = model(image)\n",
    "\n",
    "# Encerre a contagem de tempo após a inferência\n",
    "end_time = time.time()\n",
    "\n",
    "print('Inference time: {:.4f} ms'.format((end_time - start_time)*1000))"
   ]
  },
  {
   "cell_type": "code",
   "execution_count": 190,
   "metadata": {},
   "outputs": [
    {
     "name": "stdout",
     "output_type": "stream",
     "text": [
      "predictions: [[-0.2528123   0.23917511  0.26785877]]\n",
      "label: [-0.30401203  0.41709507  0.14397529]\n",
      ">>> image shape: (224, 224)\n"
     ]
    }
   ],
   "source": [
    "# convert the predictions to numpy array\n",
    "predictions = predictions.to(device).detach().numpy()\n",
    "# convert the labels to numpy array\n",
    "label = labels.to(device).detach().numpy()\n",
    "\n",
    "\n",
    "# convert image to cpu \n",
    "image = image.to(device).detach().numpy()\n",
    "# image it is shape (1, 1, 507, 507), we need to remove the first dimension\n",
    "image = image[0][0]\n",
    "\n",
    "# print the predictions and labels\n",
    "print('predictions:', predictions)\n",
    "print('label:', label[0])\n",
    "\n",
    "print('>>> image shape:', image.shape)"
   ]
  },
  {
   "cell_type": "code",
   "execution_count": 191,
   "metadata": {},
   "outputs": [
    {
     "name": "stdout",
     "output_type": "stream",
     "text": [
      "supposing m1 = m2\n",
      "supposing m1 = m2\n",
      "label (deprocessed): [-5.6712819192560815, -5.6712819192560815, 659.3763868073977, 1062.4903270276232]\n",
      "predictions (deprocessed): [-15.178388678034995, -15.178388678034995, 1578.3786050890826, 2272.5607371479255]\n"
     ]
    }
   ],
   "source": [
    "#label = PreProcess.standard_deprocess(image=image, label=label[0].tolist(), mean=MEAN, std=STD)\n",
    "label = PreProcess.deprocess(image=image, label=label[0].tolist())\n",
    "predictions = PreProcess.standard_deprocess(image=image, label=predictions[0].tolist(), mean=MEAN, std=STD)\n",
    "\n",
    "print('label (deprocessed):', label)\n",
    "print('predictions (deprocessed):', predictions)"
   ]
  },
  {
   "cell_type": "code",
   "execution_count": 192,
   "metadata": {},
   "outputs": [
    {
     "name": "stdout",
     "output_type": "stream",
     "text": [
      "m1: -5.67, m2: -5.67, b1: 659.38, b2: 1062.49\n",
      "m1p: -15.18, m2p: -15.18, b1p: 1578.38, b2p: 2272.56\n"
     ]
    }
   ],
   "source": [
    "# line equations explicitly\n",
    "\n",
    "# get the x coordinates\n",
    "x = np.arange(0, 224)\n",
    "\n",
    "# get the slopes and intercepts\n",
    "m1, m2, b1, b2 = label\n",
    "\n",
    "# get the x and y coordinates of the lines\n",
    "y1 = m1*x + b1\n",
    "y2 = m2*x + b2\n",
    "\n",
    "# get the slopes and intercepts\n",
    "m1p, m2p, b1p, b2p = predictions\n",
    "\n",
    "# get the x and y coordinates of the lines\n",
    "y1p = m1p*x + b1p\n",
    "y2p = m2p*x + b2p\n",
    "\n",
    "print(f'm1: {m1:.2f}, m2: {m2:.2f}, b1: {b1:.2f}, b2: {b2:.2f}')\n",
    "print(f'm1p: {m1p:.2f}, m2p: {m2p:.2f}, b1p: {b1p:.2f}, b2p: {b2p:.2f}')"
   ]
  },
  {
   "cell_type": "markdown",
   "metadata": {},
   "source": [
    "Calculate the L1 Loss as accuracy metric.\n"
   ]
  },
  {
   "cell_type": "code",
   "execution_count": 193,
   "metadata": {},
   "outputs": [
    {
     "name": "stdout",
     "output_type": "stream",
     "text": [
      "L1 Loss: tensor(9.5071)\n",
      "L1 Loss: tensor(9.5071)\n",
      "L1 Loss: tensor(919.0023)\n",
      "L1 Loss: tensor(1210.0704)\n"
     ]
    }
   ],
   "source": [
    "ls = torch.tensor(label).unsqueeze(0)\n",
    "ps = torch.tensor(predictions).unsqueeze(0)\n",
    "\n",
    "\n",
    "l1_loss = nn.L1Loss()\n",
    "for i in range(4):\n",
    "    loss = l1_loss(ls[0][i], ps[0][i])\n",
    "    print(\"L1 Loss:\", loss)"
   ]
  },
  {
   "cell_type": "code",
   "execution_count": 194,
   "metadata": {},
   "outputs": [
    {
     "name": "stderr",
     "output_type": "stream",
     "text": [
      "findfont: Font family 'Ubuntu' not found.\n",
      "findfont: Font family 'Ubuntu' not found.\n",
      "findfont: Font family 'Ubuntu' not found.\n",
      "findfont: Font family 'Ubuntu' not found.\n",
      "findfont: Font family 'Ubuntu' not found.\n",
      "findfont: Font family 'Ubuntu' not found.\n",
      "findfont: Font family 'Ubuntu' not found.\n",
      "findfont: Font family 'Ubuntu' not found.\n",
      "findfont: Font family 'Ubuntu' not found.\n",
      "findfont: Font family 'Ubuntu' not found.\n",
      "findfont: Font family 'Ubuntu' not found.\n",
      "findfont: Font family 'Ubuntu' not found.\n",
      "findfont: Font family 'Ubuntu' not found.\n",
      "findfont: Font family 'Ubuntu' not found.\n",
      "findfont: Font family 'Ubuntu' not found.\n",
      "findfont: Font family 'Ubuntu' not found.\n",
      "findfont: Font family 'Ubuntu' not found.\n",
      "findfont: Font family 'Ubuntu' not found.\n",
      "findfont: Font family 'Ubuntu' not found.\n",
      "findfont: Font family 'Ubuntu' not found.\n",
      "findfont: Font family 'Ubuntu' not found.\n",
      "findfont: Font family 'Ubuntu' not found.\n",
      "findfont: Font family 'Ubuntu' not found.\n",
      "findfont: Font family 'Ubuntu' not found.\n",
      "findfont: Font family 'Ubuntu' not found.\n",
      "findfont: Font family 'Ubuntu' not found.\n",
      "findfont: Font family 'Ubuntu' not found.\n",
      "findfont: Font family 'Ubuntu' not found.\n",
      "findfont: Font family 'Ubuntu' not found.\n",
      "findfont: Font family 'Ubuntu' not found.\n",
      "findfont: Font family 'Ubuntu' not found.\n",
      "findfont: Font family 'Ubuntu' not found.\n",
      "findfont: Font family 'Ubuntu' not found.\n",
      "findfont: Font family 'Ubuntu' not found.\n"
     ]
    },
    {
     "data": {
      "image/png": "[encoded data removed]",
      "text/plain": [
       "<Figure size 800x500 with 1 Axes>"
      ]
     },
     "metadata": {},
     "output_type": "display_data"
    }
   ],
   "source": [
    "fig, ax = plt.subplots(figsize=(8, 5), frameon=True)\n",
    "\n",
    "linewidth = 2.5\n",
    "\n",
    "# plot the lines\n",
    "ax.plot(x, y1, color='#ffca70', linestyle='-', label='Reference', linewidth=6)\n",
    "ax.plot(x, y2, color='#ffca70', linestyle='-', linewidth=6)\n",
    "\n",
    "ax.plot(x, y1p, color='red', linestyle='--',  label='Predicted', linewidth=2)\n",
    "ax.plot(x, y2p, color='red', linestyle='--', linewidth=2)\n",
    "\n",
    "#ax.plot(0, 0, 'ro', markersize=20)\n",
    "#ax.plot(114, 224, 'ks', markersize=30)\n",
    "\n",
    "# Customize the title\n",
    "# title_font = {'family': 'Ubuntu', 'color': 'black', 'weight': 'bold', 'size': 18}\n",
    "# plt.title('Inference Results', fontdict=title_font)\n",
    "\n",
    "# Add a white rectangle to create a border\n",
    "border_style = dict(facecolor='none', edgecolor='black', linewidth=3)\n",
    "ax.add_patch(plt.Rectangle((0, 0), 1, 1, **border_style, transform=ax.transAxes))\n",
    "\n",
    "#im = ax.imshow(image, cmap='magma', norm=PowerNorm(gamma=16), alpha=0.65)\n",
    "im = ax.imshow(image, cmap='gray')\n",
    "ax.axis('off')\n",
    "\n",
    "# legend\n",
    "plt.legend(loc='upper right', prop={'size': 14, 'family': 'Ubuntu'})\n",
    "\n",
    "plt.show()\n"
   ]
  },
  {
   "cell_type": "code",
   "execution_count": 195,
   "metadata": {},
   "outputs": [],
   "source": [
    "# import random\n",
    "# N = 100  # Number of runs\n",
    "\n",
    "# errors = []  # List to store the errors\n",
    "# lines_values = []  # List to store the line values\n",
    "# losses = []\n",
    "\n",
    "# for _ in range(N):\n",
    "# # Generate a random number between 1 and 100\n",
    "#     r = random.randint(1, BATCH_SIZE)\n",
    "\n",
    "#     image = images[r - 1].unsqueeze(0)\n",
    "#     label = labels[r - 1].unsqueeze(0)\n",
    "\n",
    "#     # Perform the inference and get the predictions\n",
    "#     predictions = model(image)\n",
    "\n",
    "#     # Convert the predictions to numpy array\n",
    "#     predictions = predictions.to('cpu').cpu().detach().numpy()\n",
    "\n",
    "#     # Calculate the error\n",
    "    \n",
    "#     label_np = label[0].numpy()  # Convert label tensor to numpy array\n",
    "#     error = np.mean(np.abs(predictions - label_np))\n",
    "\n",
    "#     # Store the error and line values\n",
    "#     errors.append(error)\n",
    "#     lines_values.append((predictions[0][0], predictions[0][1], predictions[0][2]))\n",
    "\n",
    "#     loss_temp = list(range(3))\n",
    "#     l1_loss = nn.L1Loss()\n",
    "#     for i in range(3):\n",
    "#         loss = l1_loss(label[0][i], preds[0][i])\n",
    "#         loss_temp[i] = loss\n",
    "\n",
    "#     losses.append(loss_temp)\n",
    "\n",
    "\n",
    "# # Calculate the mean error\n",
    "# mean_error = np.mean(errors)\n",
    "# mean_losses = np.mean(losses, axis=0)\n",
    "# # calculate standard deviation\n",
    "# std_dev = np.std(errors)\n",
    "# std_losses = np.std(losses, axis=0)\n",
    "\n",
    "\n",
    "# print(f'Mean error: {mean_error:.4f} | Standard deviation: {std_dev:.4f}')\n",
    "# print(f'Mean losses: {mean_losses} | Standard deviation: {std_losses}')"
   ]
  },
  {
   "cell_type": "code",
   "execution_count": 196,
   "metadata": {},
   "outputs": [],
   "source": [
    "# # Extract the first, second, and third values from the lines_values list\n",
    "# first_values = [value[0] for value in lines_values]\n",
    "# second_values = [value[1] for value in lines_values]\n",
    "# third_values = [value[2] for value in lines_values]\n",
    "\n",
    "# # Calculate the mean for each set of values\n",
    "# mean_first = sum(first_values) / len(first_values)\n",
    "# mean_second = sum(second_values) / len(second_values)\n",
    "# mean_third = sum(third_values) / len(third_values)\n",
    "\n",
    "# means = PreProcess.deprocess(image=image, label=[mean_first, mean_second, mean_third])\n",
    "\n",
    "# print(means)"
   ]
  },
  {
   "cell_type": "code",
   "execution_count": 197,
   "metadata": {},
   "outputs": [
    {
     "name": "stdout",
     "output_type": "stream",
     "text": [
      "Dataset id: 5\n",
      "len images?  9840\n"
     ]
    },
    {
     "name": "stdout",
     "output_type": "stream",
     "text": [
      "[Error] Mean: 0.5240 | Standard deviation: 0.3138\n",
      "[Losses: Mean] [0.5155887  0.54570866 0.5107802 ] | Standard deviation: [0.3475137  0.41180825 0.29529548]\n",
      "[Full Loss] Mean: 0.5240 | Standard deviation: 0.3138\n"
     ]
    }
   ],
   "source": [
    "errors = []  # List to store the errors\n",
    "lines_values = []  # List to store the line values\n",
    "losses = []\n",
    "full_losses = []\n",
    "\n",
    "print('Dataset id:', DATASET_ID)\n",
    "print('len images? ', len(images))\n",
    "for index in range(len(images)):\n",
    "    image = images[index].unsqueeze(0)\n",
    "    label = labels[index].unsqueeze(0)\n",
    "\n",
    "    # Perform the inference and get the predictions\n",
    "    predictions = model(image)\n",
    "\n",
    "    # Convert the predictions to numpy array\n",
    "    predictions = predictions.to(device)\n",
    "    \n",
    "    preds_np = predictions.detach().numpy()\n",
    "\n",
    "    # Calculate the error\n",
    "    \n",
    "    label_np = label[0].numpy()  # Convert label tensor to numpy array\n",
    "    error = np.mean(np.abs(preds_np - label_np))\n",
    "\n",
    "    # Store the error and line values\n",
    "    errors.append(error)\n",
    "    lines_values.append((preds_np[0][0], preds_np[0][1], preds_np[0][2]))\n",
    "\n",
    "    loss_temp = list(range(3))\n",
    "    l1_loss = nn.L1Loss()\n",
    "    for i in range(3):\n",
    "        loss = l1_loss(label[0][i], predictions[0][i])\n",
    "        loss_temp[i] = loss.detach().numpy()\n",
    "    \n",
    "    full_loss = l1_loss(label, predictions)\n",
    "\n",
    "    losses.append(loss_temp)\n",
    "    full_losses.append(full_loss.detach().numpy())\n",
    "\n",
    "\n",
    "# Calculate the mean error\n",
    "mean_error = np.mean(errors)\n",
    "mean_losses = np.mean(losses, axis=0)\n",
    "mean_full_losses = np.mean(full_losses)\n",
    "# calculate standard deviation\n",
    "std_dev = np.std(errors)\n",
    "std_losses = np.std(losses, axis=0)\n",
    "std_full_losses = np.std(full_losses)\n",
    "\n",
    "\n",
    "print(f'[Error] Mean: {mean_error:.4f} | Standard deviation: {std_dev:.4f}')\n",
    "print(f'[Losses: Mean] {mean_losses} | Standard deviation: {std_losses}')\n",
    "print(f'[Full Loss] Mean: {mean_full_losses:.4f} | Standard deviation: {std_full_losses:.4f}')"
   ]
  }
 ],
 "metadata": {
  "kernelspec": {
   "display_name": "Python 3",
   "language": "python",
   "name": "python3"
  },
  "language_info": {
   "codemirror_mode": {
    "name": "ipython",
    "version": 3
   },
   "file_extension": ".py",
   "mimetype": "text/x-python",
   "name": "python",
   "nbconvert_exporter": "python",
   "pygments_lexer": "ipython3",
   "version": "3.8.10"
  },
  "orig_nbformat": 4
 },
 "nbformat": 4,
 "nbformat_minor": 2
}
