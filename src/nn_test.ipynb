{
 "cells": [
  {
   "cell_type": "code",
   "execution_count": 97,
   "metadata": {},
   "outputs": [],
   "source": [
    "import os\n",
    "import time\n",
    "import torch\n",
    "import numpy as np\n",
    "import pandas as pd\n",
    "import matplotlib.pyplot as plt\n",
    "from matplotlib.colors import PowerNorm\n",
    "from matplotlib.colors import LinearSegmentedColormap\n",
    "import seaborn as sns\n",
    "from statistics import mean\n",
    "import torch.nn as nn\n",
    "import torch.optim as optim\n",
    "import torch.nn.functional as F\n",
    "from torch.utils.data import Dataset, DataLoader, random_split\n",
    "from torchsummary import summary\n",
    "from efficientnet_pytorch import EfficientNet\n",
    "\n",
    "from dataloader import *\n",
    "sys.path.append('../')\n",
    "from pre_process import *\n",
    "\n",
    "# torch.cuda.empty_cache()\n",
    "\n",
    "# device = torch.device('cuda' if torch.cuda.is_available() else 'cpu')\n",
    "device = torch.device(\"cpu\")"
   ]
  },
  {
   "cell_type": "code",
   "execution_count": 98,
   "metadata": {},
   "outputs": [],
   "source": [
    "BATCH_SIZE = 50"
   ]
  },
  {
   "cell_type": "code",
   "execution_count": 99,
   "metadata": {},
   "outputs": [
    {
     "name": "stdout",
     "output_type": "stream",
     "text": [
      "Current working directory: /home/tommaselli/Documents/IC_NN_Lidar\n",
      "mean: [-3.56225815e-04 -3.56225815e-04  6.79553686e+01  1.56309953e+02] | std: [ 0.29311623  0.29311623 66.15049055 65.81781642]\n",
      "images shape: torch.Size([50, 224, 224])\n",
      "label length: 3\n",
      "-----------------------------------------------------------------\n",
      "train size: 196, val size: 49\n"
     ]
    }
   ],
   "source": [
    "def getData(csv_path, train_path, batch_size=BATCH_SIZE, num_workers=0):\n",
    "    ''' get images from the folder (assets/images) and return a DataLoader object '''\n",
    "    \n",
    "    dataset = NnDataLoader(csv_path, train_path)\n",
    "\n",
    "    train_size, val_size = int(0.8*len(dataset)), np.ceil(0.2*len(dataset)).astype('int')\n",
    "    train_dataset, val_dataset = torch.utils.data.random_split(dataset, [train_size, val_size])\n",
    "\n",
    "    train_data = DataLoader(train_dataset, batch_size=batch_size, shuffle=True,num_workers=num_workers)\n",
    "    val_data  = DataLoader(val_dataset, batch_size=batch_size, shuffle=True,num_workers=num_workers)\n",
    "\n",
    "    # get one image shape from the train_data\n",
    "    for i, data in enumerate(train_data):\n",
    "        print(f'images shape: {data[\"image\"].shape}')\n",
    "        print(f'label length: {len(data[\"labels\"])}')\n",
    "        break\n",
    "    print('-'*65)\n",
    "\n",
    "    print(f'train size: {train_size}, val size: {val_size}')\n",
    "    return train_data, val_data\n",
    "\n",
    "\n",
    "#! Navigate back one directory\n",
    "#! os.chdir('..') \n",
    "\n",
    "cwd = os.getcwd()\n",
    "print(\"Current working directory:\", cwd)\n",
    "\n",
    "\n",
    "CSV_PATH = \"./data/artificial_data/tags/Artificial_Label_Data3.csv\"\n",
    "TRAIN_PATH = \"./data/artificial_data/train3\"\n",
    "train_data, val_data = getData(csv_path=CSV_PATH, train_path=TRAIN_PATH)"
   ]
  },
  {
   "cell_type": "code",
   "execution_count": 100,
   "metadata": {},
   "outputs": [],
   "source": [
    "# test the model with the validation data for one random image\n",
    "# showing the image and the predicted and real labels\n",
    "# get the first image from the validation data\n",
    "for i, data in enumerate(train_data):\n",
    "    images = data['image']\n",
    "    labels = data['labels']\n",
    "    break"
   ]
  },
  {
   "cell_type": "code",
   "execution_count": 101,
   "metadata": {},
   "outputs": [],
   "source": [
    "# image dimension: (batch, channels, height, width)\n",
    "images = images.type(torch.float32).to(device)\n",
    "images = images.unsqueeze(1)\n",
    "\n",
    "labels = [label.type(torch.float32).to(device) for label in labels]\n",
    "# convert labels to tensor\n",
    "labels = torch.stack(labels)\n",
    "# convert to format: tensor([[value1, value2, value3, value4], [value1, value2, value3, value4], ...])\n",
    "# this is: labels for each image, \"batch\" times -> shape: (batch, 4)\n",
    "labels = labels.permute(1, 0)"
   ]
  },
  {
   "cell_type": "code",
   "execution_count": 102,
   "metadata": {},
   "outputs": [],
   "source": [
    "############ MODEL ############\n",
    "#?model = models.resnet18(pretrained=True)\n",
    "#?model = models.resnet50(pretrained=True)\n",
    "#?model = EfficientNet.from_pretrained('efficientnet-b0')\n",
    "#?model = models.vgg16(pretrained=True)\n",
    "model = models.mobilenet_v2(pretrained=True)\n",
    "\n",
    "########### EFFICENT NET ###########\n",
    "# model._conv_stem = nn.Conv2d(1, 32, kernel_size=3, stride=2, padding=1, bias=False)\n",
    "\n",
    "# num_ftrs = model._fc.in_features\n",
    "# model._fc = nn.Sequential(\n",
    "#     nn.Linear(num_ftrs, 512),\n",
    "#     nn.BatchNorm1d(512),\n",
    "#     nn.ReLU(inplace=True),\n",
    "#     nn.Linear(512, 256),\n",
    "#     nn.BatchNorm1d(256),\n",
    "#     nn.ReLU(inplace=True),\n",
    "#     nn.Linear(256, 3)  \n",
    "# )\n",
    "\n",
    "########### MOBILE NET ########### \n",
    "model.features[0][0] = nn.Conv2d(1, 32, kernel_size=3, stride=2, padding=1, bias=False)\n",
    "\n",
    "# MobileNetV2 uses a different attribute for the classifier\n",
    "num_ftrs = model.classifier[1].in_features\n",
    "model.classifier[1] = nn.Sequential(\n",
    "nn.Linear(num_ftrs, 512),\n",
    "nn.BatchNorm1d(512),\n",
    "nn.ReLU(inplace=True),\n",
    "nn.Linear(512, 3)\n",
    ")\n",
    "\n",
    "########### EFFICENT NET ###########\n",
    "# model._conv_stem = nn.Conv2d(1, 32, kernel_size=3, stride=2, padding=1, bias=False)\n",
    "\n",
    "# num_ftrs = model._fc.in_features\n",
    "# model._fc = nn.Sequential(\n",
    "#     nn.Linear(num_ftrs, 512),\n",
    "#     nn.BatchNorm1d(512),\n",
    "#     nn.ReLU(inplace=True),\n",
    "#     nn.Linear(512, 256),\n",
    "#     nn.BatchNorm1d(256),\n",
    "#     nn.ReLU(inplace=True),\n",
    "#     nn.Linear(256, 3)  \n",
    "# )\n",
    "\n",
    "########### VGG NET 16 ########### \n",
    "# model.features[0] = nn.Conv2d(1, 64, kernel_size=3, stride=1, padding=1)\n",
    "\n",
    "# # Accessing the classifier part of the VGG16 model\n",
    "# num_ftrs = model.classifier[6].in_features\n",
    "# model.classifier[6] = nn.Sequential(\n",
    "#     nn.Linear(num_ftrs, 512),\n",
    "#     nn.BatchNorm1d(512),\n",
    "#     nn.ReLU(inplace=True),\n",
    "#     nn.Linear(512, 256),\n",
    "#     nn.BatchNorm1d(256),\n",
    "#     nn.ReLU(inplace=True),\n",
    "#     nn.Linear(256, 3)\n",
    "# )\n",
    "\n",
    "########### RESNET ###########\n",
    "# model = models.resnet18()\n",
    "# model.conv1 = nn.Conv2d(1, 64, kernel_size=7, stride=2, padding=3, bias=False)\n",
    "\n",
    "# num_ftrs = model.fc.in_features\n",
    "# # Adding batch normalization and an additional convolutional layer\n",
    "# model.fc = nn.Sequential(\n",
    "#     nn.Linear(num_ftrs, 512),\n",
    "#     nn.BatchNorm1d(512),\n",
    "#     nn.ReLU(inplace=True),\n",
    "#     nn.Linear(512, 256),\n",
    "#     nn.BatchNorm1d(256),\n",
    "#     nn.ReLU(inplace=True),\n",
    "#     nn.Linear(256, 3)  # Alterado para 3 valores de saída\n",
    "# )\n",
    "\n",
    "# Moving the model to the device (GPU/CPU)\n",
    "# model = model.to(device)\n",
    "path = os.getcwd() + '/models/' + '/model_0001_29-01-2024_18-11-40.pth'\n",
    "checkpoint = torch.load(path, map_location='cpu')  # Load to CPU\n",
    "model.load_state_dict(checkpoint)\n",
    "#model.load_state_dict(torch.load(path), map_location=device)\n",
    "model.eval()\n",
    "\n",
    "# image it is the first image from the images batch\n",
    "image = images[0].unsqueeze(0)\n",
    "# label it is the first label from the labels batch\n",
    "label = labels[0].unsqueeze(0)"
   ]
  },
  {
   "cell_type": "markdown",
   "metadata": {},
   "source": [
    "## Good Results\n",
    "\n",
    "* MobileNet V2: \"model_005_08-01-2024_19-28-46.pth\"\n",
    "    * Mean error: 0.0371 \n",
    "    * Standard deviation: 0.0224\n",
    "    * Inference time: 32.7735 ms\n",
    "\n",
    "* EfficientNet B0: \"model_005_08-01-2024_19-28-46.pth\"\n",
    "    * Mean error: 0.0601\n",
    "    * Standard deviation: 0.0556\n",
    "    * Inference time: 50.6783 ms\n",
    "\n",
    "* MobileNet V2: \"model_005_09-01-2024_01-11-48.pth\"\n",
    "    * Mean error: 0.0575 \n",
    "    * Standard deviation: 0.0590\n",
    "    * Inference time: 33.7720 ms\n",
    "\n",
    "## Bad Results\n",
    "\n",
    "* MobileNet V2: \"model_005_11-01-2024_02-30-16.pth\" \n",
    "    * Mean error: 0.0953\n",
    "    * Standard deviation: 0.0729\n",
    "    * Inference time: 32.4738 ms\n",
    "\n",
    "* MobileNet V2: \"model_5_08-01-2024_23-52-10.pth\"\n",
    "    * Mean error: 0.3811 \n",
    "    * Standard deviation: 0.2217\n",
    "    * Inference time: 36.5789 ms\n",
    "\n",
    "* VGGNet: \"model_005_09-01-2024_18-08-41.pth\"\n",
    "    * Mean error: 0.4455 \n",
    "    * Standard deviation: 0.2871\n",
    "    * Inference time: 239.4996 ms\n",
    "\n",
    "\n",
    "## Visual \n",
    "\n",
    "* MobileNet V2: \"model_005_17-01-2024_15-38-12.pth\" (errei no código, desconsiderar)\n",
    "    * Mean error: 0.1115 \n",
    "    * Standard deviation: 0.0806\n",
    "    * Inference time: 31.4717 ms\n",
    "\n",
    "* MobileNet V2: \"model_005_17-01-2024_19-08-33.pth\" (visual real)\n",
    "    * Mean error: 0.2414\n",
    "    * Standard deviation: 0.1724\n",
    "    * Inference time: 30.3817 ms"
   ]
  },
  {
   "cell_type": "code",
   "execution_count": 103,
   "metadata": {},
   "outputs": [
    {
     "name": "stdout",
     "output_type": "stream",
     "text": [
      "image type: torch.Size([1, 1, 224, 224])\n",
      "Inference time: 34.7960 ms\n"
     ]
    }
   ],
   "source": [
    "# type of image\n",
    "print(f'image type: {image.shape}')\n",
    "\n",
    "# Inicie a contagem de tempo antes da inferência\n",
    "start_time = time.time()\n",
    "\n",
    "# get the model predictions\n",
    "predictions = model(image)\n",
    "\n",
    "# Encerre a contagem de tempo após a inferência\n",
    "end_time = time.time()\n",
    "\n",
    "print('Inference time: {:.4f} ms'.format((end_time - start_time)*1000))"
   ]
  },
  {
   "cell_type": "code",
   "execution_count": 104,
   "metadata": {},
   "outputs": [
    {
     "name": "stdout",
     "output_type": "stream",
     "text": [
      "predictions: [[-0.71883386  0.77179223  0.6404893 ]]\n",
      "label: [-1.5896473  1.6740636  1.5471305]\n",
      ">>> image shape: (224, 224)\n"
     ]
    }
   ],
   "source": [
    "# convert the predictions to numpy array\n",
    "predictions = predictions.to('cpu').cpu().detach().numpy()\n",
    "# convert the labels to numpy array\n",
    "label = labels.to('cpu').cpu().detach().numpy()\n",
    "\n",
    "\n",
    "# convert image to cpu \n",
    "image = image.to('cpu').cpu().detach().numpy()\n",
    "# image it is shape (1, 1, 507, 507), we need to remove the first dimension\n",
    "image = image[0][0]\n",
    "\n",
    "# print the predictions and labels\n",
    "print('predictions:', predictions)\n",
    "print('label:', label[0])\n",
    "\n",
    "print('>>> image shape:', image.shape)"
   ]
  },
  {
   "cell_type": "code",
   "execution_count": 105,
   "metadata": {},
   "outputs": [
    {
     "name": "stdout",
     "output_type": "stream",
     "text": [
      "supposing m1 = m2\n",
      "supposing m1 = m2\n",
      "label (deprocessed): [-1.0846040744561434, -1.0846040744561434, 291.88810580431306, 403.4585051675234]\n",
      "predictions (deprocessed): [-2.398520740349558, -2.398520740349558, 382.3213145776526, 606.0629802592805]\n"
     ]
    }
   ],
   "source": [
    "label = PreProcess.deprocess(image=image, label=label[0].tolist())\n",
    "predictions = PreProcess.deprocess(image=image, label=predictions[0].tolist())\n",
    "\n",
    "print('label (deprocessed):', label)\n",
    "print('predictions (deprocessed):', predictions)"
   ]
  },
  {
   "cell_type": "code",
   "execution_count": 106,
   "metadata": {},
   "outputs": [],
   "source": [
    "# line equations explicitly\n",
    "\n",
    "# get the x coordinates\n",
    "x = np.arange(0, 224)\n",
    "\n",
    "# get the slopes and intercepts\n",
    "m1, m2, b1, b2 = label\n",
    "\n",
    "# get the x and y coordinates of the lines\n",
    "y1 = m1*x + b1\n",
    "y2 = m2*x + b2\n",
    "\n",
    "# get the slopes and intercepts\n",
    "m1p, m2p, b1p, b2p = predictions\n",
    "\n",
    "# get the x and y coordinates of the lines\n",
    "y1p = m1p*x + b1p\n",
    "y2p = m2p*x + b2p"
   ]
  },
  {
   "cell_type": "code",
   "execution_count": 107,
   "metadata": {},
   "outputs": [
    {
     "data": {
      "image/png": "[encoded data removed]",
      "text/plain": [
       "<Figure size 800x500 with 1 Axes>"
      ]
     },
     "metadata": {},
     "output_type": "display_data"
    }
   ],
   "source": [
    "fig, ax = plt.subplots(figsize=(8, 5), frameon=True)\n",
    "\n",
    "linewidth = 2.5\n",
    "\n",
    "# plot the lines\n",
    "ax.plot(x, y1, color='blue', label='Reference', linewidth=linewidth)\n",
    "ax.plot(x, y2, color='blue', linewidth=linewidth)\n",
    "\n",
    "ax.plot(x, y1p, color='red', label='Predicted', linewidth=linewidth)\n",
    "ax.plot(x, y2p, color='red', linewidth=linewidth)\n",
    "\n",
    "# Plot a red circle at (0, 0)\n",
    "ax.plot(0, 0, 'ro', markersize=20)\n",
    "\n",
    "# Plot a black square at (114, -20)\n",
    "ax.plot(114, 224, 'ks', markersize=30)\n",
    "\n",
    "\n",
    "# Customize the title\n",
    "# title_font = {'family': 'Ubuntu', 'color': 'black', 'weight': 'bold', 'size': 18}\n",
    "# plt.title('Inference Results', fontdict=title_font)\n",
    "\n",
    "# Add a white rectangle to create a border\n",
    "border_style = dict(facecolor='none', edgecolor='black', linewidth=2)\n",
    "ax.add_patch(plt.Rectangle((0, 0), 1, 1, **border_style, transform=ax.transAxes))\n",
    "\n",
    "# legend\n",
    "plt.legend(loc='upper right', prop={'size': 9, 'family': 'Ubuntu'})\n",
    "\n",
    "# show the image\n",
    "im = ax.imshow(image, cmap='magma', norm=PowerNorm(gamma=16), alpha=0.65)\n",
    "ax.axis('off')\n",
    "\n",
    "plt.show()\n"
   ]
  },
  {
   "cell_type": "code",
   "execution_count": 108,
   "metadata": {},
   "outputs": [
    {
     "name": "stdout",
     "output_type": "stream",
     "text": [
      "Mean error: 0.5062 | Standard deviation: 0.3258\n"
     ]
    }
   ],
   "source": [
    "import random\n",
    "N = 100  # Number of runs\n",
    "\n",
    "errors = []  # List to store the errors\n",
    "lines_values = []  # List to store the line values\n",
    "\n",
    "for _ in range(N):\n",
    "# Generate a random number between 1 and 100\n",
    "    r = random.randint(1, BATCH_SIZE)\n",
    "\n",
    "    image = images[r - 1].unsqueeze(0)\n",
    "    label = labels[r - 1].unsqueeze(0)\n",
    "\n",
    "    # Perform the inference and get the predictions\n",
    "    predictions = model(image)\n",
    "\n",
    "    # Convert the predictions to numpy array\n",
    "    predictions = predictions.to('cpu').cpu().detach().numpy()\n",
    "\n",
    "    # Calculate the error\n",
    "    \n",
    "    label_np = label[0].numpy()  # Convert label tensor to numpy array\n",
    "    error = np.mean(np.abs(predictions - label_np))\n",
    "\n",
    "    # Store the error and line values\n",
    "    errors.append(error)\n",
    "    lines_values.append((predictions[0][0], predictions[0][1], predictions[0][2]))\n",
    "\n",
    "# Calculate the mean error\n",
    "mean_error = np.mean(errors)\n",
    "# calculate standard deviation\n",
    "std_dev = np.std(errors)\n",
    "\n",
    "print(f'Mean error: {mean_error:.4f} | Standard deviation: {std_dev:.4f}')"
   ]
  },
  {
   "cell_type": "code",
   "execution_count": 109,
   "metadata": {},
   "outputs": [
    {
     "name": "stdout",
     "output_type": "stream",
     "text": [
      "supposing m1 = m2\n",
      "[-82.04427231004213, -82.04427231004213, 5566.367074555748, 13546.714491610777]\n"
     ]
    }
   ],
   "source": [
    "# Extract the first, second, and third values from the lines_values list\n",
    "first_values = [value[0] for value in lines_values]\n",
    "second_values = [value[1] for value in lines_values]\n",
    "third_values = [value[2] for value in lines_values]\n",
    "\n",
    "# Calculate the mean for each set of values\n",
    "mean_first = sum(first_values) / len(first_values)\n",
    "mean_second = sum(second_values) / len(second_values)\n",
    "mean_third = sum(third_values) / len(third_values)\n",
    "\n",
    "means = PreProcess.deprocess(image=image, label=[mean_first, mean_second, mean_third])\n",
    "\n",
    "print(means)"
   ]
  }
 ],
 "metadata": {
  "kernelspec": {
   "display_name": "Python 3",
   "language": "python",
   "name": "python3"
  },
  "language_info": {
   "codemirror_mode": {
    "name": "ipython",
    "version": 3
   },
   "file_extension": ".py",
   "mimetype": "text/x-python",
   "name": "python",
   "nbconvert_exporter": "python",
   "pygments_lexer": "ipython3",
   "version": "3.8.10"
  },
  "orig_nbformat": 4
 },
 "nbformat": 4,
 "nbformat_minor": 2
}
